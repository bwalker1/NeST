{
 "cells": [
  {
   "cell_type": "code",
   "execution_count": null,
   "id": "5a5f4025",
   "metadata": {},
   "outputs": [],
   "source": [
    "import nest\n",
    "import os\n",
    "import anndata\n",
    "import scipy\n",
    "import sklearn.metrics\n",
    "import numpy as np\n",
    "import pandas as pd\n",
    "import seaborn as sns\n",
    "import scanpy as sc\n",
    "import squidpy as sq\n",
    "import networkx as nx\n",
    "from pathlib import Path\n",
    "import time\n",
    "from tqdm import tqdm\n",
    "import matplotlib as mpl\n",
    "import matplotlib.pyplot as plt\n",
    "import matplotlib.gridspec as gridspec\n",
    "from matplotlib import rc\n",
    "import networkx as nx\n",
    "import colorcet as cc\n",
    "\n",
    "import warnings\n",
    "warnings.filterwarnings(\"ignore\")"
   ]
  },
  {
   "cell_type": "markdown",
   "id": "43dbb298",
   "metadata": {},
   "source": [
    "# Main Analysis"
   ]
  },
  {
   "cell_type": "code",
   "execution_count": null,
   "id": "83d5e3cf",
   "metadata": {},
   "outputs": [],
   "source": [
    "dataset = \"V1_Breast_Cancer_Block_A_Section_1\"\n",
    "\n",
    "neighbor_eps, min_samples, hotspot_min_size = nest.data.default_parameters(dataset)\n",
    "print(neighbor_eps, min_samples, hotspot_min_size)"
   ]
  },
  {
   "cell_type": "code",
   "execution_count": null,
   "id": "92d2d07f",
   "metadata": {},
   "outputs": [],
   "source": [
    "# Configuration for plotting and saving\n",
    "dataset_dir = os.path.expanduser(\"~/Documents/data/\")\n",
    "cache_dir = os.path.expanduser(f\"data/{dataset}\")\n",
    "image_save_dir = os.path.expanduser(f\"images/{dataset}/\")\n",
    "if not os.path.exists(cache_dir):\n",
    "    os.makedirs(cache_dir)\n",
    "if not os.path.exists(image_save_dir):\n",
    "    os.makedirs(image_save_dir)\n",
    "nest.plot.set_dataset_plot_parameters(dataset)\n",
    "\n",
    "def save_fig(fig, name):\n",
    "    fig.savefig(os.path.join(image_save_dir, name), dpi=300, bbox_inches='tight', transparent=True)"
   ]
  },
  {
   "cell_type": "code",
   "execution_count": null,
   "id": "6f63ff37",
   "metadata": {},
   "outputs": [],
   "source": [
    "adata = nest.data.get_data(dataset, dataset_dir, normalize=True)"
   ]
  },
  {
   "cell_type": "code",
   "execution_count": null,
   "id": "4cea53f6",
   "metadata": {},
   "outputs": [],
   "source": [
    "num_hotspot_genes = nest.compute_gene_hotspots(adata, verbose=True,\n",
    "                                               eps=neighbor_eps, min_samples=min_samples, min_size=hotspot_min_size)"
   ]
  },
  {
   "cell_type": "code",
   "execution_count": null,
   "id": "5778dcd4",
   "metadata": {},
   "outputs": [],
   "source": [
    "num_hotspot_genes"
   ]
  },
  {
   "cell_type": "code",
   "execution_count": null,
   "id": "f79363e4",
   "metadata": {},
   "outputs": [],
   "source": [
    "nest.hotspot_closure(adata, verbose=True)"
   ]
  },
  {
   "cell_type": "code",
   "execution_count": null,
   "id": "d97a056c",
   "metadata": {},
   "outputs": [],
   "source": [
    "adata.obs.drop(adata.obs.filter(regex='hotspots_multi').columns.tolist(), axis=1, inplace=True)\n",
    "nest.coexpression_hotspots(adata, threshold=0.60, min_size=10, cutoff=0.3, min_genes=15, resolution=1.0)"
   ]
  },
  {
   "cell_type": "code",
   "execution_count": null,
   "id": "7184167d",
   "metadata": {},
   "outputs": [],
   "source": [
    "nest.compute_multi_boundaries(adata, 10, 0.001)"
   ]
  },
  {
   "cell_type": "code",
   "execution_count": null,
   "id": "00fcd0bf",
   "metadata": {},
   "outputs": [],
   "source": [
    "fig, ax = plt.subplots(1, 1, figsize=[7.5, 7.5])\n",
    "nest.plot.multi_hotspots(adata, ax=ax, show=False, title=\"All Coex. Hotspots\")\n",
    "#save_fig(fig, \"coex_all.png\")"
   ]
  },
  {
   "cell_type": "code",
   "execution_count": null,
   "id": "382b577f",
   "metadata": {},
   "outputs": [],
   "source": [
    "fig, ax = plt.subplots(1, 1, figsize=(2.5, 2.5))\n",
    "nest.plot.spatial(adata, frameon=False, title=\"Histology\", ax=ax)\n",
    "save_fig(fig, \"histology.png\")"
   ]
  },
  {
   "cell_type": "code",
   "execution_count": null,
   "id": "f202b227",
   "metadata": {},
   "outputs": [],
   "source": [
    "nest.geometry_scores(adata);"
   ]
  },
  {
   "cell_type": "code",
   "execution_count": null,
   "id": "b665d93d",
   "metadata": {},
   "outputs": [],
   "source": [
    "size = (1.2, 1.2)\n",
    "fig, ax = plt.subplots(figsize=size)\n",
    "nest.plot.spatial(adata, color=\"geometry\", ax=ax, color_map=\"Blues\", alpha_img=0.5, frameon=False, show=False,\n",
    "                 title=\"\")\n",
    "ax.collections[0].colorbar.remove()\n",
    "save_fig(fig, \"coherence.pdf\")\n",
    "size = (1.2, 1.2)\n",
    "fig, ax = plt.subplots(figsize=size)\n",
    "nest.plot.spatial(adata, color=\"geometry_unique\", ax=ax, color_map=\"Blues\", alpha_img=0.5, frameon=False, show=False,\n",
    "                 title=\"\")\n",
    "ax.collections[0].colorbar.remove()\n",
    "save_fig(fig, \"unique_expr.pdf\")"
   ]
  },
  {
   "cell_type": "code",
   "execution_count": null,
   "id": "6689f4f9",
   "metadata": {},
   "outputs": [],
   "source": [
    "%matplotlib inline\n",
    "rc('font',**{'family':'serif','serif':['Arial'], 'size':7})\n",
    "fig, axs = plt.subplots(1, 4, figsize=[6.5, 2])\n",
    "gene_list = [\"DEGS2\", \"BRINP3\", \"SUSD3\", \"LOXL2\"]\n",
    "for idx, gene in enumerate(gene_list):\n",
    "    ax=axs[idx]\n",
    "    nest.plot.spatial(adata, color=gene, color_map=\"Blues\", alpha_img=0.25, ax=ax, frameon=False, show=False)\n",
    "    ax.collections[0].colorbar.remove()\n",
    "    \n",
    "save_fig(fig, \"top_1_markers.png\")"
   ]
  },
  {
   "cell_type": "code",
   "execution_count": null,
   "id": "3ae350aa",
   "metadata": {},
   "outputs": [],
   "source": [
    "%matplotlib inline\n",
    "plt.rcParams['figure.figsize'] = [5, 5]\n",
    "rc('font',**{'family':'serif','serif':['Arial'], 'size':7})\n",
    "sns.set_color_codes()\n",
    "#keyfn = lambda x: -len(x[1])\n",
    "keyfn = lambda x: int(x[0])\n",
    "\n",
    "def plot_all_coex_hotspots(adata, ncol=4, figsize=None):\n",
    "    num_coex_hotspot = len(adata.uns['multi_hotspots']) + 1\n",
    "    nrow = np.ceil(num_coex_hotspot / ncol).astype(np.int_)\n",
    "    fig, axs = plt.subplots(nrow, ncol, figsize=figsize)\n",
    "    axs = axs.ravel()\n",
    "    for k, multi_hotspot in sorted(adata.uns['multi_hotspots'].items(), key=keyfn):\n",
    "        k = int(k)\n",
    "        num_genes = len(multi_hotspot)\n",
    "        nest.plot.hotspots(adata, f\"multi_{k}\", title=f\"CH{k} ({num_genes} genes)\", labels=None, palette=\"b\", \n",
    "                         alpha_img=0.5, show=False, ax=axs[k])\n",
    "    for k in range(num_coex_hotspot-1, nrow*ncol):\n",
    "        axs[k].set_axis_off()\n",
    "\n",
    "\n",
    "plot_all_coex_hotspots(adata, figsize=(10, 25))\n",
    "#plt.savefig(os.path.expanduser(f'images/sgep_all.pdf'), dpi=300)\n",
    "plt.show()"
   ]
  },
  {
   "cell_type": "code",
   "execution_count": null,
   "id": "434f697c",
   "metadata": {},
   "outputs": [],
   "source": [
    "#adata.uns['multi_hotspots_colors'] = {int(k): v for k, v in adata.uns['multi_hotspots_colors'].items()}\n",
    "%matplotlib inline\n",
    "plt.rcParams['figure.figsize'] = [5, 5]\n",
    "rc('font',**{'family':'serif','serif':['Arial'], 'size':5})\n",
    "\n",
    "nest.plot.nested_structure_plot(adata, figsize=(5, 1.5), fontsize=8, legend_ncol=4, alpha_high=0.75, alpha_low=0.15,\n",
    "                               legend_kwargs={'loc':\"upper left\", 'bbox_to_anchor':(1, 0.95)})\n",
    "plt.savefig(os.path.join(image_save_dir, f'nested_structure.pdf'), dpi=300, bbox_inches='tight', transparent=True)"
   ]
  },
  {
   "cell_type": "code",
   "execution_count": null,
   "id": "3fcc97d7",
   "metadata": {},
   "outputs": [],
   "source": [
    "# Construct segmentations for comparison\n",
    "for regions in [6]:\n",
    "    hmrf = nest.hmrf.HMRFSegmentationModel(adata, regions=regions, k=6, label_name=f\"class_hmrf_{regions}\", beta=1)\n",
    "    hmrf.fit(max_iterations=200, update_labels=True, verbose=False)\n",
    "    fig, ax = plt.subplots(figsize=(1.7, 1.7))\n",
    "    nest.plot.spatial(adata, color=f\"class_hmrf_{regions}\", alpha_img=0.5, legend_loc=None, frameon=False,\n",
    "                     title=f\"\", palette=cc.glasbey_dark, spot_size=282, alpha=0.75, ax=ax, show=False)\n",
    "    #save_fig(fig, f\"hmrf_segmentation_{regions}.pdf\")"
   ]
  },
  {
   "cell_type": "code",
   "execution_count": null,
   "id": "b7bd1b5e",
   "metadata": {},
   "outputs": [],
   "source": [
    "nest.plot.spatial(adata, color=f\"class_hmrf_6\", alpha_img=0.5, legend_loc=\"on data\", frameon=False,\n",
    "                     title=f\"\", palette=cc.glasbey_dark, spot_size=282, alpha=0.75, show=False)"
   ]
  },
  {
   "cell_type": "code",
   "execution_count": null,
   "id": "84c37d4c",
   "metadata": {},
   "outputs": [],
   "source": [
    "sc.tl.rank_genes_groups(adata, groupby=\"class_hmrf_6\", key=\"de\")"
   ]
  },
  {
   "cell_type": "code",
   "execution_count": null,
   "id": "ded0799f",
   "metadata": {},
   "outputs": [],
   "source": [
    "sc.pl.rank_genes_groups(adata, groupby=\"class_hmrf_6\")"
   ]
  },
  {
   "cell_type": "code",
   "execution_count": null,
   "id": "9af85fae",
   "metadata": {},
   "outputs": [],
   "source": [
    "gene_list = [v[1] for v in adata.uns['rank_genes_groups']['names']][:8]"
   ]
  },
  {
   "cell_type": "code",
   "execution_count": null,
   "id": "5aacd6ea",
   "metadata": {},
   "outputs": [],
   "source": [
    "nest.plot.spatial(adata, color=gene_list, color_map=\"Blues\", alpha_img=0.25)"
   ]
  },
  {
   "cell_type": "code",
   "execution_count": null,
   "id": "6d7202e5",
   "metadata": {},
   "outputs": [],
   "source": [
    "gene_list = [\"RASGRP2\", \"CD79A\", \"GZMK\", \"CD247\", \"AC004687.1\", \"MAP4K1\"]\n",
    "fig, axs = plt.subplots(1, 6, figsize=[6.5, 2])\n",
    "for idx, gene in enumerate(gene_list):\n",
    "    ax = axs[idx]\n",
    "    nest.plot.spatial(adata, color=gene, frameon=False, ax=ax, color_map=\"Blues\", alpha_img=0.25, show=False, spot_size=325, )\n",
    "    ax.collections[0].colorbar.remove()\n",
    "save_fig(fig, \"tls_genes.png\")"
   ]
  },
  {
   "cell_type": "code",
   "execution_count": null,
   "id": "25ebb65a",
   "metadata": {},
   "outputs": [],
   "source": [
    "pairwise_sim, Z = nest.sim_linkage(adata)"
   ]
  },
  {
   "cell_type": "code",
   "execution_count": null,
   "id": "0e7cb9a2",
   "metadata": {},
   "outputs": [],
   "source": [
    "from scipy.cluster.hierarchy import dendrogram\n",
    "fig, ax = plt.subplots(1, 1, figsize=[2, 2])\n",
    "out = dendrogram(Z, color_threshold=0.68, ax=ax, leaf_font_size=5, leaf_rotation=90)\n",
    "ax.tick_params(axis='y', which='major', labelsize=5)\n",
    "fig.savefig(f\"images/{dataset}/dendrogram.png\", dpi=300, transparent=True, bbox_inches=\"tight\", )"
   ]
  },
  {
   "cell_type": "code",
   "execution_count": null,
   "id": "377f0e32",
   "metadata": {},
   "outputs": [],
   "source": [
    "fig, ax = plt.subplots(1, 1, figsize=[2, 2])\n",
    "colors = dict(zip(out['leaves'], out['leaves_color_list']))\n",
    "colors = {k: v if v is not 'C0' else (1, 1, 1, 1) for k, v in colors.items()}\n",
    "nest.plot.multi_hotspots(adata, ax=ax, show=False, color_type=colors, title=\"\")\n",
    "fig.savefig(f\"images/{dataset}/coex_dendro_group.png\", dpi=300, transparent=True, bbox_inches=\"tight\")"
   ]
  },
  {
   "cell_type": "code",
   "execution_count": null,
   "id": "286cf88f",
   "metadata": {},
   "outputs": [],
   "source": [
    "fig, ax = plt.subplots(1, 1, figsize=[7.5, 7.5])\n",
    "nest.plot.multi_hotspots(adata, ax=ax, show=False, title=\"All Coex. Hotspots\", inds = [6,])"
   ]
  },
  {
   "cell_type": "code",
   "execution_count": null,
   "id": "3731c72f",
   "metadata": {},
   "outputs": [],
   "source": [
    "nest.plot.plot_similarity_map(adata, idx=6, color_map=\"Blues\")\n",
    "nest.plot.plot_similarity_map(adata, idx=3, color_map=\"Blues\")\n",
    "nest.plot.plot_similarity_map(adata, idx=2, color_map=\"Blues\")"
   ]
  },
  {
   "cell_type": "code",
   "execution_count": null,
   "id": "bdbe4066",
   "metadata": {},
   "outputs": [],
   "source": [
    "nest.plot.plot_similarity_map(adata, idx=0, color_map=\"Blues\")"
   ]
  }
 ],
 "metadata": {
  "kernelspec": {
   "display_name": "nest",
   "language": "python",
   "name": "python3"
  },
  "language_info": {
   "codemirror_mode": {
    "name": "ipython",
    "version": 3
   },
   "file_extension": ".py",
   "mimetype": "text/x-python",
   "name": "python",
   "nbconvert_exporter": "python",
   "pygments_lexer": "ipython3",
   "version": "3.9.15"
  },
  "vscode": {
   "interpreter": {
    "hash": "6f720ed92c6e0d29746a6ded02aa3824a341fa1eb128afc61c06f097cd8321c9"
   }
  }
 },
 "nbformat": 4,
 "nbformat_minor": 5
}
