{
 "cells": [
  {
   "cell_type": "code",
   "execution_count": null,
   "id": "bcc85356",
   "metadata": {},
   "outputs": [],
   "source": [
    "import nest\n",
    "import os\n",
    "import anndata\n",
    "import scipy\n",
    "import sklearn.metrics\n",
    "import numpy as np\n",
    "import pandas as pd\n",
    "import seaborn as sns\n",
    "import scanpy as sc\n",
    "import squidpy as sq\n",
    "import networkx as nx\n",
    "from pathlib import Path\n",
    "import time\n",
    "from tqdm import tqdm\n",
    "from scipy.sparse import csr_matrix\n",
    "from scipy.stats import pearsonr\n",
    "\n",
    "\n",
    "import matplotlib as mpl\n",
    "import matplotlib.pyplot as plt\n",
    "import matplotlib.gridspec as gridspec\n",
    "from matplotlib import rc\n",
    "\n",
    "import leidenalg as la\n",
    "import igraph as ig\n",
    "from scipy.sparse import coo_array\n",
    "from scipy.spatial.distance import cdist\n",
    "from scipy.spatial import KDTree\n",
    "from scipy.spatial import ConvexHull\n",
    "from mpl_toolkits.mplot3d.art3d import Poly3DCollection\n",
    "import matplotlib.colors as colors\n",
    "\n",
    "import warnings\n",
    "warnings.filterwarnings(\"ignore\")"
   ]
  },
  {
   "cell_type": "code",
   "execution_count": null,
   "id": "a1ef2cad",
   "metadata": {},
   "outputs": [],
   "source": [
    "available_datasets = [\"V1_Mouse_Brain_Sagittal_Anterior\", \"V1_Mouse_Brain_Sagittal_Posterior\", \"seqfish\", \"merfish\",\n",
    "                     \"slideseq\", \"V1_Breast_Cancer_Block_A_Section_1\"]\n",
    "dataset = \"seqfish\""
   ]
  },
  {
   "cell_type": "code",
   "execution_count": null,
   "id": "e8883428",
   "metadata": {},
   "outputs": [],
   "source": [
    "image_save_dir = os.path.expanduser(f\"images/{dataset}/\")\n",
    "from pathlib import Path\n",
    "Path(image_save_dir).mkdir(parents=True, exist_ok=True)\n",
    "nest.plot.set_dataset_plot_parameters(dataset)\n",
    "def save_fig(fig, name):\n",
    "    fig.savefig(os.path.join(image_save_dir, name), dpi=300, bbox_inches='tight', transparent=True)"
   ]
  },
  {
   "cell_type": "code",
   "execution_count": null,
   "id": "40a8d69a",
   "metadata": {},
   "outputs": [],
   "source": [
    "adata = nest.data.get_data(dataset)\n"
   ]
  },
  {
   "cell_type": "code",
   "execution_count": null,
   "id": "534d8d86",
   "metadata": {},
   "outputs": [],
   "source": [
    "nest.spatial_smoothing(adata)"
   ]
  },
  {
   "cell_type": "code",
   "execution_count": null,
   "id": "f00982f6",
   "metadata": {},
   "outputs": [],
   "source": [
    "nest.get_min_samples_from_density(adata, eps=0.12, density=0.1)"
   ]
  },
  {
   "cell_type": "code",
   "execution_count": null,
   "id": "331032bc",
   "metadata": {},
   "outputs": [],
   "source": [
    "nest.compute_gene_hotspots(adata, eps=0.12, min_size=25, min_samples=5, log=True)\n",
    "#nest.interaction_hotspots(adata, eps=0.20, min_size=25, min_samples=15, method=\"permutation\", log=False, save_activity=True, sig_threshold=0.92)"
   ]
  },
  {
   "cell_type": "code",
   "execution_count": null,
   "id": "7d82eac1",
   "metadata": {},
   "outputs": [],
   "source": [
    "#nest.plot.spatial(adata, color=(\"Dll1\", \"Notch1\"), color_map=\"Blues\", use_raw=False)"
   ]
  },
  {
   "cell_type": "code",
   "execution_count": null,
   "id": "acf0bda9",
   "metadata": {},
   "outputs": [],
   "source": [
    "#nest.plot.hotspots(adata, color=\"DLL1_NOTCH1\")"
   ]
  },
  {
   "cell_type": "code",
   "execution_count": null,
   "id": "73e5927e",
   "metadata": {},
   "outputs": [],
   "source": [
    "nest.coexpression_hotspots(adata, threshold=0.30, min_size=15, min_genes=3, resolution=1.0, cutoff=0.5)"
   ]
  },
  {
   "cell_type": "code",
   "execution_count": null,
   "id": "159676e8",
   "metadata": {},
   "outputs": [],
   "source": [
    "nest.compute_multi_boundaries(adata, 10, 0.00001)"
   ]
  },
  {
   "cell_type": "code",
   "execution_count": null,
   "id": "2e0347af",
   "metadata": {},
   "outputs": [],
   "source": [
    "nest.plot.multi_hotspots(adata)"
   ]
  },
  {
   "cell_type": "markdown",
   "id": "7611437b",
   "metadata": {},
   "source": []
  },
  {
   "cell_type": "code",
   "execution_count": null,
   "id": "16691e7c",
   "metadata": {},
   "outputs": [],
   "source": []
  },
  {
   "cell_type": "code",
   "execution_count": null,
   "id": "2a6f2fe1",
   "metadata": {},
   "outputs": [],
   "source": [
    "#nest.plot.all_coex_hotspots(adata, figsize=(10, 20))"
   ]
  },
  {
   "cell_type": "code",
   "execution_count": null,
   "id": "99ef243b",
   "metadata": {},
   "outputs": [],
   "source": [
    "nest.plot.spatial(adata, color=\"class\")"
   ]
  },
  {
   "cell_type": "code",
   "execution_count": null,
   "id": "271dbd02",
   "metadata": {},
   "outputs": [],
   "source": [
    "nest.plot.spatial(adata, color=(\"Notch1\", \"Dll1\", \"Dll3\", \"DLL1_NOTCH1\"), color_map=\"Blues\", use_raw=False)"
   ]
  },
  {
   "cell_type": "code",
   "execution_count": null,
   "id": "51d082c7",
   "metadata": {},
   "outputs": [],
   "source": [
    "cc = nest.methods.CellChat()\n",
    "res = cc.run(adata, group_by=\"class\")\n",
    "cc.cellchat_score(adata, interaction=\"Dll1  - Notch1\")"
   ]
  },
  {
   "cell_type": "code",
   "execution_count": null,
   "id": "577dec09",
   "metadata": {},
   "outputs": [],
   "source": [
    "fig, ax = plt.subplots(figsize=(5, 5))\n",
    "nest.plot.spatial(adata, color=\"cellchat_score\", title=\"CellChat (nonspatial)\",\n",
    "                  color_map=\"Blues\", ax=ax, frameon=False)"
   ]
  },
  {
   "cell_type": "code",
   "execution_count": null,
   "id": "6839965b",
   "metadata": {},
   "outputs": [],
   "source": [
    "%matplotlib inline\n",
    "rc('font',**{'family':'serif','serif':['Arial'], 'size':5})\n",
    "# ligand, receptor, spatial activity, hotspots, cellchat score\n",
    "fig, axs = plt.subplots(1, 6, figsize=(6.5, 3))\n",
    "keys = [\"Dll1\", \"Notch1\", \"DLL1_NOTCH1\", \"cellchat_score\"]\n",
    "ax_ids = [0,1,2,4]\n",
    "nest.plot.spatial(adata, color=\"class\", frameon=False, show=False, title=\"\", \n",
    "                  groups=['Forebrain/Midbrain/Hindbrain', 'Presomitic mesoderm', 'Spinal cord'],\n",
    "                  legend_loc='right margin', na_in_legend=False, ax=axs[5])\n",
    "for key, idx in zip(keys, ax_ids):\n",
    "    nest.plot.spatial(adata, color=key, ax=axs[idx], color_map=\"Blues\", frameon=False, show=False, title=\"\",\n",
    "                     legend_loc=False, use_raw=False)\n",
    "    axs[idx].collections[0].colorbar.remove()\n",
    "nest.plot.hotspots(adata, color=\"DLL1_NOTCH1\", ax=axs[3], show=False, title=\"\", frameon=False)\n",
    "fig.savefig(os.path.join(image_save_dir, f'comparison.pdf'), dpi=300, bbox_inches='tight', transparent=True)"
   ]
  },
  {
   "cell_type": "code",
   "execution_count": null,
   "id": "111c6d13",
   "metadata": {},
   "outputs": [],
   "source": [
    "nest.plot.spatial(adata, color=\"class\", frameon=False, show=False, title=\"\", \n",
    "                  groups=['Forebrain/Midbrain/Hindbrain', 'Presomitic mesoderm', 'Spinal cord'],\n",
    "                  legend_loc=\"on data\", na_in_legend=False)"
   ]
  },
  {
   "cell_type": "code",
   "execution_count": null,
   "id": "defa4688",
   "metadata": {},
   "outputs": [],
   "source": [
    "# List of all interactions identified in the dataset\n",
    "adata.uns['interactions']"
   ]
  },
  {
   "cell_type": "code",
   "execution_count": null,
   "id": "f63469e0",
   "metadata": {},
   "outputs": [],
   "source": [
    "fig, ax = plt.subplots(figsize=(1, 1))\n",
    "nest.plot.hotspots(adata, color=\"WNT5A_FZD2\", labels=False, frameon=False, title=\"\", ax=ax, show=False)\n",
    "save_fig(fig, \"wnt_summary.pdf\")"
   ]
  },
  {
   "cell_type": "code",
   "execution_count": null,
   "id": "f85f3485",
   "metadata": {},
   "outputs": [],
   "source": [
    "nest.plot.spatial(adata, color=(\"Wnt5a\", \"Fzd2\", \"WNT5A_FZD2\"), color_map=\"Blues\", use_raw=False)"
   ]
  }
 ],
 "metadata": {
  "kernelspec": {
   "display_name": "nest",
   "language": "python",
   "name": "python3"
  },
  "language_info": {
   "codemirror_mode": {
    "name": "ipython",
    "version": 3
   },
   "file_extension": ".py",
   "mimetype": "text/x-python",
   "name": "python",
   "nbconvert_exporter": "python",
   "pygments_lexer": "ipython3",
   "version": "3.9.15"
  },
  "vscode": {
   "interpreter": {
    "hash": "6f720ed92c6e0d29746a6ded02aa3824a341fa1eb128afc61c06f097cd8321c9"
   }
  }
 },
 "nbformat": 4,
 "nbformat_minor": 5
}
