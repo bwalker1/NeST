{
 "cells": [
  {
   "cell_type": "code",
   "execution_count": null,
   "id": "5a5f4025",
   "metadata": {},
   "outputs": [],
   "source": [
    "import nest\n",
    "import os\n",
    "import anndata\n",
    "import scipy\n",
    "import sklearn.metrics\n",
    "import numpy as np\n",
    "import pandas as pd\n",
    "import seaborn as sns\n",
    "import scanpy as sc\n",
    "import squidpy as sq\n",
    "import networkx as nx\n",
    "from pathlib import Path\n",
    "import time\n",
    "from tqdm import tqdm\n",
    "import matplotlib as mpl\n",
    "import matplotlib.pyplot as plt\n",
    "import matplotlib.gridspec as gridspec\n",
    "from matplotlib import rc\n",
    "import networkx as nx\n",
    "import colorcet as cc\n",
    "\n",
    "import warnings\n",
    "warnings.filterwarnings(\"ignore\")"
   ]
  },
  {
   "cell_type": "markdown",
   "id": "43dbb298",
   "metadata": {},
   "source": [
    "# Main Analysis"
   ]
  },
  {
   "cell_type": "code",
   "execution_count": null,
   "id": "83d5e3cf",
   "metadata": {},
   "outputs": [],
   "source": [
    "dataset = \"slideseq\"\n",
    "\n",
    "neighbor_eps, min_samples, hotspot_min_size = nest.data.default_parameters(dataset)"
   ]
  },
  {
   "cell_type": "code",
   "execution_count": null,
   "id": "92d2d07f",
   "metadata": {},
   "outputs": [],
   "source": [
    "# Configuration for plotting and saving\n",
    "dataset_dir = os.path.expanduser(\"~/Documents/data/\")\n",
    "cache_dir = os.path.expanduser(f\"data/{dataset}\")\n",
    "image_save_dir = os.path.expanduser(f\"images/{dataset}/\")\n",
    "if not os.path.exists(cache_dir):\n",
    "    os.makedirs(cache_dir)\n",
    "if not os.path.exists(image_save_dir):\n",
    "    os.makedirs(image_save_dir)\n",
    "nest.plot.set_dataset_plot_parameters(dataset)\n",
    "\n",
    "def save_fig(fig, name):\n",
    "    fig.savefig(os.path.join(image_save_dir, name), dpi=300, bbox_inches='tight', transparent=True)"
   ]
  },
  {
   "cell_type": "code",
   "execution_count": null,
   "id": "6f63ff37",
   "metadata": {},
   "outputs": [],
   "source": [
    "adata = nest.data.get_data(dataset, dataset_dir, normalize=True)"
   ]
  },
  {
   "cell_type": "code",
   "execution_count": null,
   "id": "b17b023b",
   "metadata": {},
   "outputs": [],
   "source": [
    "%%time\n",
    "nest.spatial_smoothing(adata)\n",
    "print(adata.shape)"
   ]
  },
  {
   "cell_type": "code",
   "execution_count": null,
   "id": "4cea53f6",
   "metadata": {},
   "outputs": [],
   "source": [
    "%%time\n",
    "res = nest.compute_gene_hotspots(adata, verbose=True, log=True,\n",
    "                           eps=neighbor_eps, min_samples=min_samples, min_size=hotspot_min_size)\n",
    "print(res)"
   ]
  },
  {
   "cell_type": "code",
   "execution_count": null,
   "id": "17c8526a",
   "metadata": {},
   "outputs": [],
   "source": [
    "tmp = nest.get_min_samples_from_density(adata, eps=neighbor_eps, density=0.1)\n",
    "print(min_samples, tmp)"
   ]
  },
  {
   "cell_type": "code",
   "execution_count": null,
   "id": "d97a056c",
   "metadata": {},
   "outputs": [],
   "source": [
    "%%time\n",
    "# resolution = 1.0\n",
    "resolution = 1.0\n",
    "nest.coexpression_hotspots(adata, threshold=0.35, min_size=30, cutoff=0.5, min_genes=8, resolution=resolution)"
   ]
  },
  {
   "cell_type": "code",
   "execution_count": null,
   "id": "7184167d",
   "metadata": {},
   "outputs": [],
   "source": [
    "%%time\n",
    "nest.compute_multi_boundaries(adata, 0.005, 0.00001)\n",
    "\n",
    "# We get a slightly prettier picture if we fine-tune two of the narrower hotspots but this is purely cosmetic\n",
    "for idx in [2, 8]:\n",
    "    boundary = nest.compute_hotspot_boundary(adata, f\"hotspots_multi_{idx}\", 0, alpha_max=0.015,\n",
    "                                                alpha_min=0.00001)\n",
    "    adata.uns[\"multi_boundaries\"][str(idx)] = boundary"
   ]
  },
  {
   "cell_type": "code",
   "execution_count": null,
   "id": "2c6eab1b",
   "metadata": {},
   "outputs": [],
   "source": [
    "%%time\n",
    "nest.plot.multi_hotspots(adata, legend_ncol=2)"
   ]
  },
  {
   "cell_type": "code",
   "execution_count": null,
   "id": "5d3942fd",
   "metadata": {},
   "outputs": [],
   "source": [
    "len([v for v in adata.obs.columns if \"hotspots_multi_\" in v])"
   ]
  },
  {
   "cell_type": "code",
   "execution_count": null,
   "id": "b49000e6",
   "metadata": {},
   "outputs": [],
   "source": [
    "#adata.uns['multi_hotspots_colors'] = {int(k): v for k, v in adata.uns['multi_hotspots_colors'].items()}\n",
    "%matplotlib inline\n",
    "plt.rcParams['figure.figsize'] = [5, 5]\n",
    "rc('font',**{'family':'serif','serif':['Arial'], 'size':5})\n",
    "nest.plot.nested_structure_plot(adata, figsize=(5, 1.5), fontsize=8, legend_ncol=4, alpha_high=0.75, alpha_low=0.15,\n",
    "                               legend_kwargs={'loc':\"upper left\", 'bbox_to_anchor':(1, 1.03)})"
   ]
  },
  {
   "cell_type": "code",
   "execution_count": null,
   "id": "a5b91fef",
   "metadata": {},
   "outputs": [],
   "source": [
    "nest.geometry_scores(adata)"
   ]
  },
  {
   "cell_type": "code",
   "execution_count": null,
   "id": "3ae350aa",
   "metadata": {},
   "outputs": [],
   "source": [
    "# Alternate visualization that makes it easier to see specific coexpression hotspots\n",
    "%matplotlib inline\n",
    "plt.rcParams['figure.figsize'] = [5, 5]\n",
    "rc('font',**{'family':'serif','serif':['Arial'], 'size':5})\n",
    "sns.set_color_codes()\n",
    "\n",
    "nest.plot.all_coex_hotspots(adata, figsize=(6.5, 9))\n",
    "#plt.savefig(os.path.expanduser(f'images/slideseq/all_coex.png'), dpi=300)\n",
    "plt.show()"
   ]
  },
  {
   "cell_type": "code",
   "execution_count": null,
   "id": "18fe1e02",
   "metadata": {},
   "outputs": [],
   "source": [
    "fig, ax = plt.subplots(figsize=(2, 2))\n",
    "nest.plot.spatial(adata, color=\"geometry\", color_map=\"Blues\", title=\"\", ax=ax, frameon=False, show=False)\n",
    "ax.collections[0].colorbar.remove()\n",
    "#save_fig(fig, \"coherence\")"
   ]
  },
  {
   "cell_type": "code",
   "execution_count": null,
   "id": "5aacd6ea",
   "metadata": {},
   "outputs": [],
   "source": [
    "res = nest.geometric_markers(adata, [3, 5, 17, 7, 6])"
   ]
  },
  {
   "cell_type": "code",
   "execution_count": null,
   "id": "abfa7cd7",
   "metadata": {},
   "outputs": [],
   "source": [
    "# Visualizations of expression of top-3 marker genes for each region in hippocampus\n",
    "\n",
    "%matplotlib inline\n",
    "res_sub = {k: v[:3] for k, v in res.items()}\n",
    "fig, ax = nest.plot.tracks_plot(adata, res_sub, width=2.5, track_height=0.1, fontsize=6, \n",
    "                                marked_genes=[])\n",
    "#save_fig(fig, \"tracks_plot.pdf\")"
   ]
  },
  {
   "cell_type": "code",
   "execution_count": null,
   "id": "f471add8",
   "metadata": {},
   "outputs": [],
   "source": [
    "# Examples of spatial expresssion of particular hippocampus hierarchical marker genes\n",
    "\n",
    "%matplotlib inline\n",
    "plt.rcParams['figure.figsize'] = [6.5, 8]\n",
    "rc('font',**{'family':'serif','serif':['Arial'], 'size':7})\n",
    "\n",
    "fig, axs = plt.subplots(5, 4, figsize=[6.5, 8])\n",
    "axs = axs.ravel()\n",
    "gene_list = [a for k, v in res.items() for a in v[:4]]\n",
    "for idx, gene in enumerate(gene_list):\n",
    "    ax = axs[idx]\n",
    "    nest.plot.spatial(adata, color=gene, color_map=\"Blues\", ax=ax, show=False)\n",
    "    ax.collections[0].colorbar.remove()\n",
    "    #break\n",
    "    \n",
    "#save_fig(fig, \"hippo_marker_genes.png\")"
   ]
  },
  {
   "cell_type": "code",
   "execution_count": null,
   "id": "34144e0d",
   "metadata": {},
   "outputs": [],
   "source": [
    "# HMRF can be quite slow on this dataset\n",
    "regions = 10\n",
    "hmrf = nest.hmrf.HMRFSegmentationModel(adata, regions=regions, k=6, label_name=f\"class_hmrf_{regions}\", beta=1)\n",
    "hmrf.fit(max_iterations=50, update_labels=True, verbose=True)\n",
    "nest.write(adata, os.path.join(cache_dir, \"adata.h5ad\"))\n",
    "\n",
    "fig, ax = plt.subplots(figsize=(5, 5))\n",
    "nest.plot.spatial(adata, color=\"class_hmrf_10\", ax=ax, frameon=False, title=\"\")"
   ]
  },
  {
   "cell_type": "markdown",
   "id": "6840dcec",
   "metadata": {},
   "source": [
    "# Panels for Fig 1"
   ]
  },
  {
   "cell_type": "code",
   "execution_count": null,
   "id": "89ba37ef",
   "metadata": {},
   "outputs": [],
   "source": [
    "# Plot of the dataset highlighting the hippocampus\n",
    "%matplotlib inline\n",
    "rc('font',**{'family':'serif','serif':['Arial'], 'size':7})\n",
    "nest.plot.spatial(adata, color=\"class\")"
   ]
  },
  {
   "cell_type": "code",
   "execution_count": null,
   "id": "edb7b339",
   "metadata": {},
   "outputs": [],
   "source": [
    "# Fig. 1a\n",
    "%matplotlib inline\n",
    "rc('font',**{'family':'serif','serif':['Arial'], 'size':5})\n",
    "fig, ax = plt.subplots(figsize=(2, 2))\n",
    "nest.plot.multi_hotspots(adata, inds=[3], alpha=0, base_color=\"class\", linewidth=1, ax=ax, title=\"\")\n",
    "save_fig(fig, \"hippocampal_cell_type.pdf\")"
   ]
  },
  {
   "cell_type": "code",
   "execution_count": null,
   "id": "c63563bd",
   "metadata": {},
   "outputs": [],
   "source": [
    "#plot the marker genes\n",
    "fig, axs = plt.subplots(1, 4, figsize=(5, 2))\n",
    "genes = [\"Nrgn\", \"Neurod6\", \"Wfs1\", \"Chgb\", \"C1ql2\"]\n",
    "vmaxs = [0.5, 0.5, 1.0, 0.5]\n",
    "for idx, (gene, vmax) in enumerate(zip(genes, vmaxs)):\n",
    "    nest.plot.spatial(adata, color=gene, color_map=\"Blues\", show=False, ax=axs[idx], frameon=False, vmax=vmax,\n",
    "                     title=\"\")\n",
    "    axs[idx].collections[0].colorbar.remove()"
   ]
  },
  {
   "cell_type": "code",
   "execution_count": null,
   "id": "ef856c2a",
   "metadata": {},
   "outputs": [],
   "source": [
    "# Showing the network - use the full hippocampus and the dentate structure\n",
    "full_genes = [\"Nrgn\", \"Lppr4\", \"Rbfox3\", \"St6galnac5\"]\n",
    "dentate_genes = [\"C1ql2\", \"Stxbp6\", \"Fam163b\", \"Lrrtm4\"]\n",
    "hippocampus_bbox = [-1900, 2410, -850, 950]\n",
    "for gene in [*full_genes, *dentate_genes]:\n",
    "    fig, ax = plt.subplots(figsize=(1,1))\n",
    "    if gene in full_genes:\n",
    "        palette = [adata.uns['multi_hotspots_colors']['3']]\n",
    "    else:\n",
    "        palette = [adata.uns['multi_hotspots_colors']['8']]\n",
    "    nest.plot.hotspots(adata, color=gene, groups=[1], labels=False, na_color=[1.0, 1.0, 1.0, 1.0],\n",
    "                      crop_coord=hippocampus_bbox, frameon=False, title=\"\", show=False, ax=ax,\n",
    "                      palette=palette)\n",
    "    save_fig(fig, f\"main_hotspot_{gene}.pdf\")"
   ]
  },
  {
   "cell_type": "code",
   "execution_count": null,
   "id": "79f59b52",
   "metadata": {},
   "outputs": [],
   "source": [
    "ids = [3, 5, 7, 8, 15]\n",
    "genes = [f\"multi_{k}\" for k in ids]\n",
    "hippocampus_bbox = [-1900, 2410, -850, 950]\n",
    "for k, gene in zip(ids, genes):\n",
    "    fig, ax = plt.subplots(figsize=(1,1))\n",
    "    nest.plot.hotspots(adata, color=gene, groups=[0], labels=False, na_color=[1.0, 1.0, 1.0, 0.0],\n",
    "                      crop_coord=hippocampus_bbox, frameon=False, title=\"\", show=False, ax=ax,\n",
    "                      palette=[adata.uns['multi_hotspots_colors'][str(k)]])\n",
    "    save_fig(fig, f\"main_hotspot_{gene}.pdf\")"
   ]
  },
  {
   "cell_type": "code",
   "execution_count": null,
   "id": "92e981d5",
   "metadata": {},
   "outputs": [],
   "source": [
    "fig, ax = plt.subplots(figsize=(3.2, 3.2))\n",
    "nest.plot.multi_hotspots(adata, ax=ax, show=False)\n",
    "save_fig(fig, \"all_coex.pdf\")"
   ]
  },
  {
   "cell_type": "code",
   "execution_count": null,
   "id": "9aa83efb",
   "metadata": {},
   "outputs": [],
   "source": [
    "fig, ax = plt.subplots(figsize=(1.0, 1.0))\n",
    "nest.plot.spatial(adata, color=\"Nrgn\", ax=ax, show=False, title=\"\", color_map=\"Blues\", frameon=False)\n",
    "ax.collections[0].colorbar.remove()\n",
    "save_fig(fig, \"Nrgn_expr.pdf\")\n",
    "\n",
    "from nest.hotspot.hotspot import _compute_cutoff\n",
    "v = adata[:, 'Nrgn'].X.toarray()\n",
    "cutoff = _compute_cutoff(v, log=True)\n",
    "fig, ax = plt.subplots(figsize=(1.0, 1.0))\n",
    "nest.plot.spatial(adata, color=\"Nrgn\", ax=ax, show=False, title=\"\", color_map=\"Blues\", frameon=False,\n",
    "                 vmin=cutoff-1e-6, vmax=cutoff+1e-6)\n",
    "ax.collections[0].colorbar.remove()\n",
    "save_fig(fig, \"Nrgn_threshold.pdf\")\n",
    "\n",
    "fig, ax = plt.subplots(figsize=(1.0, 1.0))\n",
    "cc = adata.uns['multi_hotspots_colors']['3']\n",
    "nest.plot.hotspots(adata, \"Nrgn\", ax=ax, show=False, title=\"\", frameon=False, palette={1: cc, 2: 'C1'})\n",
    "save_fig(fig, \"Nrgn_hotspots.pdf\")"
   ]
  },
  {
   "cell_type": "code",
   "execution_count": null,
   "id": "4c21f789",
   "metadata": {},
   "outputs": [],
   "source": [
    "gene = \"Stxbp6\"\n",
    "fig, ax = plt.subplots(figsize=(1.0, 1.0))\n",
    "cc = adata.uns['multi_hotspots_colors']['8']\n",
    "nest.plot.hotspots(adata, gene, ax=ax, show=False, title=\"\", frameon=False, \n",
    "                  palette={1: cc, 2:'C0', 3: 'C1', 4: 'C2', 5: 'C3', 6: 'C4'})\n",
    "save_fig(fig, f\"{gene}_hotspots.pdf\")"
   ]
  },
  {
   "cell_type": "code",
   "execution_count": null,
   "id": "c69af074",
   "metadata": {},
   "outputs": [],
   "source": [
    "for k in [1, 2]:\n",
    "    fig, ax = plt.subplots(figsize=(1,1))\n",
    "    nest.plot.hotspots(adata, color=\"Nrgn\", groups=[k], labels=False, na_color=[1.0, 1.0, 1.0, 1.0],\n",
    "                      frameon=False, title=\"\", show=False, ax=ax)\n",
    "    save_fig(fig, f\"Nrgn_hotspot_{k}.pdf\")"
   ]
  }
 ],
 "metadata": {
  "kernelspec": {
   "display_name": "Python 3",
   "language": "python",
   "name": "python3"
  },
  "language_info": {
   "codemirror_mode": {
    "name": "ipython",
    "version": 3
   },
   "file_extension": ".py",
   "mimetype": "text/x-python",
   "name": "python",
   "nbconvert_exporter": "python",
   "pygments_lexer": "ipython3",
   "version": "3.9.15"
  },
  "vscode": {
   "interpreter": {
    "hash": "aee8b7b246df8f9039afb4144a1f6fd8d2ca17a180786b69acc140d282b71a49"
   }
  }
 },
 "nbformat": 4,
 "nbformat_minor": 5
}
