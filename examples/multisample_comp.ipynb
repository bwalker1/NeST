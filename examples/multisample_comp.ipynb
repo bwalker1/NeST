{
 "cells": [
  {
   "cell_type": "code",
   "execution_count": null,
   "metadata": {},
   "outputs": [],
   "source": [
    "import nest\n",
    "import os\n",
    "import anndata\n",
    "import scipy\n",
    "import sklearn.metrics\n",
    "import numpy as np\n",
    "import pandas as pd\n",
    "import seaborn as sns\n",
    "import scanpy as sc\n",
    "import squidpy as sq\n",
    "import networkx as nx\n",
    "from pathlib import Path\n",
    "import time\n",
    "from tqdm import tqdm\n",
    "from scipy.sparse import csr_matrix\n",
    "from scipy.stats import pearsonr\n",
    "\n",
    "\n",
    "import matplotlib as mpl\n",
    "import matplotlib.pyplot as plt\n",
    "import matplotlib.gridspec as gridspec\n",
    "from matplotlib import rc\n",
    "\n",
    "import leidenalg as la\n",
    "import igraph as ig\n",
    "from scipy.sparse import coo_array\n",
    "from scipy.spatial.distance import cdist\n",
    "from scipy.spatial import KDTree\n",
    "from scipy.spatial import ConvexHull\n",
    "from mpl_toolkits.mplot3d.art3d import Poly3DCollection\n",
    "import matplotlib.colors as colors\n",
    "\n",
    "import warnings\n",
    "warnings.filterwarnings(\"ignore\")"
   ]
  },
  {
   "cell_type": "code",
   "execution_count": null,
   "metadata": {},
   "outputs": [],
   "source": [
    "dataset_dir = os.path.expanduser(\"/Users/ben/Library/CloudStorage/Dropbox/data/ms/axel_datasets/\")\n",
    "dataset_file = os.path.join(dataset_dir, \"parigi22_merged.h5ad\")\n",
    "adata = anndata.read_h5ad(dataset_file)"
   ]
  },
  {
   "cell_type": "code",
   "execution_count": null,
   "metadata": {},
   "outputs": [],
   "source": [
    "image_save_dir = \"images/\"\n",
    "def save_fig(fig, name):\n",
    "    fig.savefig(os.path.join(image_save_dir, name), dpi=300, bbox_inches='tight', transparent=True)"
   ]
  },
  {
   "cell_type": "code",
   "execution_count": null,
   "metadata": {},
   "outputs": [],
   "source": [
    "adata1 = adata[adata.obs['condition'] == 'WT'].copy()\n",
    "adata1.uns['spatial'] = {'V19S23-097_A1': adata1.uns['spatial']['V19S23-097_A1']}"
   ]
  },
  {
   "cell_type": "code",
   "execution_count": null,
   "metadata": {},
   "outputs": [],
   "source": [
    "adata2 = adata[adata.obs['condition'] == 'DSS'].copy()\n",
    "adata2.uns['spatial'] = {'V19S23-097_B1': adata2.uns['spatial']['V19S23-097_B1']}"
   ]
  },
  {
   "cell_type": "code",
   "execution_count": null,
   "metadata": {},
   "outputs": [],
   "source": [
    "neighbor_eps = 105\n",
    "min_samples = 3\n",
    "hotspot_min_size = 15"
   ]
  },
  {
   "cell_type": "code",
   "execution_count": null,
   "metadata": {},
   "outputs": [],
   "source": [
    "for adata in [adata1, adata2]:\n",
    "    n = num_hotspot_genes = nest.compute_gene_hotspots(adata, verbose=True, core_only=False, log=True,\n",
    "                                               eps=neighbor_eps, min_samples=min_samples, min_size=hotspot_min_size)\n",
    "    nest.coexpression_hotspots(adata, threshold=0.50, min_size=5, cutoff=0.3, min_genes=5, resolution=1.0)\n",
    "    nest.compute_multi_boundaries(adata, 10, 0.001)"
   ]
  },
  {
   "cell_type": "code",
   "execution_count": null,
   "metadata": {},
   "outputs": [],
   "source": [
    "nest.plot.multi_hotspots(adata2, inds=[9], legend_ncol=2)"
   ]
  },
  {
   "cell_type": "code",
   "execution_count": null,
   "metadata": {},
   "outputs": [],
   "source": [
    "nest.plot.plot_similarity_map(adata=adata1, adata_ref=adata2, idx=36, spot_size=100, vmax=1)"
   ]
  },
  {
   "cell_type": "code",
   "execution_count": null,
   "metadata": {},
   "outputs": [],
   "source": [
    "arr = []\n",
    "inds = list(range(len(adata2.uns['multi_hotspots'])))\n",
    "for idx in inds:\n",
    "    v = nest.similarity_map(adata1, idx=idx, adata_ref=adata2)\n",
    "    arr.append(np.mean(v))\n",
    "\n",
    "df = pd.DataFrame(index=inds, data={'sim': arr})"
   ]
  },
  {
   "cell_type": "code",
   "execution_count": null,
   "metadata": {},
   "outputs": [],
   "source": [
    "#df.sort_values(by='sim')"
   ]
  },
  {
   "cell_type": "code",
   "execution_count": null,
   "metadata": {},
   "outputs": [],
   "source": [
    "nest.plot.multi_hotspots(adata2, inds=[36], legend_ncol=2)"
   ]
  },
  {
   "cell_type": "code",
   "execution_count": null,
   "metadata": {},
   "outputs": [],
   "source": [
    "nest.plot.spatial(adata1, color=[v[0][9:] for v in adata2.uns['multi_hotspots']['17']], spot_size=100)"
   ]
  },
  {
   "cell_type": "code",
   "execution_count": null,
   "metadata": {},
   "outputs": [],
   "source": [
    "nest.plot.spatial(adata2, color=[v[0][9:] for v in adata2.uns['multi_hotspots']['48']], spot_size=100)"
   ]
  },
  {
   "cell_type": "code",
   "execution_count": null,
   "metadata": {},
   "outputs": [],
   "source": [
    "fig, ax = plt.subplots()\n",
    "nest.plot.multi_hotspots(adata1, ax=ax)\n",
    "#save_fig(fig=fig, name=\"multi_hotspots_WT.png\")"
   ]
  },
  {
   "cell_type": "code",
   "execution_count": null,
   "metadata": {},
   "outputs": [],
   "source": [
    "fig, ax = plt.subplots()\n",
    "nest.plot.multi_hotspots(adata2, ax=ax)\n",
    "#save_fig(fig=fig, name=\"multi_hotspots_DSS.png\")"
   ]
  },
  {
   "cell_type": "code",
   "execution_count": null,
   "metadata": {},
   "outputs": [],
   "source": [
    "for idx in [0, 1, 9, 17]:\n",
    "    fig, ax = plt.subplots(figsize=[2, 2])\n",
    "    nest.plot.plot_similarity_map(adata=adata2, adata_ref=adata2, idx=idx, spot_size=100, vmax=1, color_map=\"Blues\", ax=ax, show=False, linewidth=0.5,\n",
    "                                  linecolor=\"red\")\n",
    "    ax.collections[0].colorbar.remove()\n",
    "    #save_fig(fig, f\"sim_{idx}_intra.png\")\n",
    "\n",
    "    fig, ax = plt.subplots(figsize=[2, 2])\n",
    "    nest.plot.plot_similarity_map(adata=adata1, adata_ref=adata2, idx=idx, spot_size=100, vmax=1, color_map=\"Blues\", ax=ax, show=False, linewidth=0.5,\n",
    "                                  linecolor=\"red\")\n",
    "    ax.collections[0].colorbar.remove()\n",
    "    #save_fig(fig, f\"sim_{idx}_inter.png\")\n",
    "    #break"
   ]
  },
  {
   "cell_type": "code",
   "execution_count": null,
   "metadata": {},
   "outputs": [],
   "source": []
  },
  {
   "cell_type": "code",
   "execution_count": null,
   "metadata": {},
   "outputs": [],
   "source": [
    "fig, ax = plt.subplots()\n",
    "nest.plot.spatial(adata1, color=\"Krt13\", spot_size=100, ax=ax, show=False, color_map=\"Blues\")\n",
    "#save_fig(fig, f\"krt13_wt.png\")\n",
    "\n",
    "fig, ax = plt.subplots()\n",
    "nest.plot.spatial(adata2, color=\"Krt13\", spot_size=100, ax=ax, show=False, color_map=\"Blues\")\n",
    "#save_fig(fig, f\"krt13_dss.png\")"
   ]
  },
  {
   "cell_type": "code",
   "execution_count": null,
   "metadata": {},
   "outputs": [],
   "source": []
  }
 ],
 "metadata": {
  "kernelspec": {
   "display_name": "nest",
   "language": "python",
   "name": "python3"
  },
  "language_info": {
   "codemirror_mode": {
    "name": "ipython",
    "version": 3
   },
   "file_extension": ".py",
   "mimetype": "text/x-python",
   "name": "python",
   "nbconvert_exporter": "python",
   "pygments_lexer": "ipython3",
   "version": "3.9.15"
  },
  "vscode": {
   "interpreter": {
    "hash": "6f720ed92c6e0d29746a6ded02aa3824a341fa1eb128afc61c06f097cd8321c9"
   }
  }
 },
 "nbformat": 4,
 "nbformat_minor": 2
}
